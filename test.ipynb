{
 "cells": [
  {
   "cell_type": "code",
   "execution_count": 1,
   "id": "7b34e0a6-c347-4d08-9684-8ce73ff153b4",
   "metadata": {},
   "outputs": [],
   "source": [
    "from wrapper import *\n",
    "from langchain.chains import ConversationChain  # 添加这行导入"
   ]
  },
  {
   "cell_type": "code",
   "execution_count": 2,
   "id": "bbb89410-b821-4b80-9ebf-1c361a1510c5",
   "metadata": {},
   "outputs": [
    {
     "name": "stderr",
     "output_type": "stream",
     "text": [
      "D:\\miniconda\\envs\\myenv\\Lib\\site-packages\\langchain_core\\_api\\deprecation.py:141: LangChainDeprecationWarning: The class `ConversationChain` was deprecated in LangChain 0.2.7 and will be removed in 1.0. Use RunnableWithMessageHistory: https://api.python.langchain.com/en/latest/runnables/langchain_core.runnables.history.RunnableWithMessageHistory.html instead.\n",
      "  warn_deprecated(\n"
     ]
    },
    {
     "name": "stdout",
     "output_type": "stream",
     "text": [
      "Hello! How can I assist you today?\n"
     ]
    }
   ],
   "source": [
    "deepseek_llm = DeepSeekLLM()\n",
    "prompt = \"Tell me a story about a wise old owl.\"\n",
    "\n",
    "conversation = ConversationChain(llm=deepseek_llm)\n",
    "response = conversation.predict(input=\"你好！\")\n"
   ]
  },
  {
   "cell_type": "code",
   "execution_count": null,
   "id": "f327ebde-48ef-4054-9fbb-cee64a206042",
   "metadata": {},
   "outputs": [],
   "source": []
  },
  {
   "cell_type": "code",
   "execution_count": null,
   "id": "44278f23-b637-43d7-9e23-54d30eec6650",
   "metadata": {},
   "outputs": [],
   "source": []
  }
 ],
 "metadata": {
  "kernelspec": {
   "display_name": "Python 3 (ipykernel)",
   "language": "python",
   "name": "python3"
  },
  "language_info": {
   "codemirror_mode": {
    "name": "ipython",
    "version": 3
   },
   "file_extension": ".py",
   "mimetype": "text/x-python",
   "name": "python",
   "nbconvert_exporter": "python",
   "pygments_lexer": "ipython3",
   "version": "3.12.4"
  }
 },
 "nbformat": 4,
 "nbformat_minor": 5
}
